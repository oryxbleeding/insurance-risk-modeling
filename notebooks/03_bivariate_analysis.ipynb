{
 "cells": [
  {
   "cell_type": "code",
   "execution_count": null,
   "id": "7384b9b1",
   "metadata": {},
   "outputs": [],
   "source": [
    "\n",
    "import pandas as pd\n",
    "import numpy as np\n",
    "import matplotlib.pyplot as plt\n",
    "import seaborn as sns\n",
    "                         \n",
    "# Configure plot settings\n",
    "%matplotlib inline\n",
    "sns.set_style('whitegrid')  # Changed from plt.style.use('seaborn')\n",
    "plt.rcParams['figure.figsize'] = [10, 6]\n",
    "\n",
    "# Load the dataset\n",
    "data_path = 'C:/Users/Denny/insurance-risk-modeling/data/processed/cleaned_insurance_data.csv'\n",
    "df = pd.read_csv(data_path)\n",
    "                \n",
    "# Convert categorical columns to category type\n",
    "categorical_columns = ['Gender', 'Driving_Experience', 'Vehicle_Type', 'Region', 'Accident']\n",
    "for col in categorical_columns:\n",
    "    df[col] = df[col].astype('category')\n",
    "\n",
    "# Display first few rows\n",
    "df.head()\n"
   ]
  },
  {
   "cell_type": "markdown",
   "id": "9539ed28",
   "metadata": {},
   "source": [
    "## Relationship Analysis with Target Variable (Accident)"
   ]
  },
  {
   "cell_type": "code",
   "execution_count": null,
   "id": "2328dcda",
   "metadata": {},
   "outputs": [],
   "source": [
    "\n",
    "# Defining the target variable\n",
    "target_var = 'Accident'\n",
    "\n",
    "# Numerical columns for analysis (excluding Accident since it's categorical)\n",
    "numerical_columns = ['Age', 'Previous_Accidents', 'Annual_Mileage', 'Premium']\n",
    "\n",
    "# Boxplots and Violinplots for numerical columns against the target variable\n",
    "for col in numerical_columns:\n",
    "    plt.figure(figsize=(14, 6))\n",
    "    plt.subplot(1, 2, 1)\n",
    "    sns.boxplot(x=target_var, y=col, data=df)\n",
    "    plt.title(f'Boxplot of {col} by {target_var}')\n",
    "    plt.xlabel(target_var)\n",
    "    plt.ylabel(col)\n",
    "\n",
    "    plt.subplot(1, 2, 2)\n",
    "    sns.violinplot(x=target_var, y=col, data=df)\n",
    "    plt.title(f'Violin Plot of {col} by {target_var}')\n",
    "    plt.xlabel(target_var)\n",
    "    plt.ylabel(col)\n",
    "    \n",
    "    plt.tight_layout()\n",
    "    plt.show()\n"
   ]
  },
  {
   "cell_type": "markdown",
   "id": "e5c00ab4",
   "metadata": {},
   "source": [
    "## Bar Plots for Categorical Variables by Target Variable"
   ]
  },
  {
   "cell_type": "code",
   "execution_count": null,
   "id": "1735bfc9",
   "metadata": {},
   "outputs": [],
   "source": [
    "\n",
    "# Categorical columns for analysis (excluding Accident since it's the target)\n",
    "categorical_columns = ['Gender', 'Driving_Experience', 'Vehicle_Type', 'Region']\n",
    "target_var = 'Accident'\n",
    "\n",
    "for col in categorical_columns:\n",
    "    plt.figure(figsize=(10, 6))\n",
    "    ax = sns.countplot(data=df, x=col, hue=target_var)\n",
    "    \n",
    "    # Rotate x-labels if needed\n",
    "    plt.xticks(rotation=45)\n",
    "    \n",
    "    # Add title and labels\n",
    "    plt.title(f'Distribution of {col} by {target_var}')\n",
    "    plt.xlabel(col)\n",
    "    plt.ylabel('Count')\n",
    "    \n",
    "    # Add value labels on top of bars\n",
    "    for container in ax.containers:\n",
    "        ax.bar_label(container)\n",
    "    \n",
    "    plt.tight_layout()\n",
    "    plt.show()\n"
   ]
  },
  {
   "cell_type": "markdown",
   "id": "c391e8da",
   "metadata": {},
   "source": [
    "## Crosstabulation Analysis for Categorical Variables"
   ]
  },
  {
   "cell_type": "code",
   "execution_count": null,
   "id": "00b6e702",
   "metadata": {},
   "outputs": [],
   "source": [
    "\n",
    "# Crosstabs for each categorical variable with the target variable\n",
    "for col in categorical_columns:\n",
    "    print(f\"\\nCrosstab for {col} vs {target_var}:\\n\")\n",
    "    \n",
    "    # Raw counts\n",
    "    ct_counts = pd.crosstab(df[col], df[target_var])\n",
    "    print(\"Counts:\")\n",
    "    print(ct_counts)\n",
    "    print(\"\\n\")\n",
    "    \n",
    "    # Percentages\n",
    "    ct_pct = pd.crosstab(df[col], df[target_var], normalize='index') * 100\n",
    "    print(\"Percentages (%):\")\n",
    "    print(ct_pct.round(2))\n",
    "    print(\"\\n\" + \"=\"*50)\n"
   ]
  }
 ],
 "metadata": {},
 "nbformat": 4,
 "nbformat_minor": 5
}
