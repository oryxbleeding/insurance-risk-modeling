{
 "cells": [
  {
   "cell_type": "code",
   "execution_count": null,
   "id": "c8661c7c",
   "metadata": {},
   "outputs": [],
   "source": [
    "\n",
    "import pandas as pd\n",
    "import numpy as np\n",
    "import matplotlib.pyplot as plt\n",
    "import seaborn as sns\n",
    "\n",
    "# Load the dataset\n",
    "data_path = 'C:/Users/Denny/insurance-risk-modeling/data/processed/cleaned_insurance_data.csv'\n",
    "df = pd.read_csv(data_path)\n",
    "\n",
    "# Display first few rows\n",
    "df.head()\n"
   ]
  },
  {
   "cell_type": "markdown",
   "id": "737ae62a",
   "metadata": {},
   "source": [
    "## Statistical Summary for Numerical Variables"
   ]
  },
  {
   "cell_type": "code",
   "execution_count": null,
   "id": "126c5903",
   "metadata": {},
   "outputs": [],
   "source": [
    "\n",
    "# Statistical summary\n",
    "df.describe()\n"
   ]
  },
  {
   "cell_type": "markdown",
   "id": "21a8b637",
   "metadata": {},
   "source": [
    "## Histograms and Density Plots for Numerical Variables"
   ]
  },
  {
   "cell_type": "code",
   "execution_count": null,
   "id": "7706858e",
   "metadata": {},
   "outputs": [],
   "source": [
    "\n",
    "numerical_columns = df.select_dtypes(include=['float64', 'int64']).columns\n",
    "\n",
    "for col in numerical_columns:\n",
    "    plt.figure(figsize=(12, 6))\n",
    "    plt.subplot(1, 2, 1)\n",
    "    sns.histplot(df[col], kde=True, bins=20, edgecolor='k')\n",
    "    plt.title(f'Histogram and Density Plot of {col}')\n",
    "    plt.xlabel(col)\n",
    "\n",
    "    plt.subplot(1, 2, 2)\n",
    "    sns.kdeplot(df[col], fill=True)\n",
    "    plt.title(f'Density Plot of {col}')\n",
    "    plt.xlabel(col)\n",
    "    \n",
    "    plt.tight_layout()\n",
    "    plt.show()\n"
   ]
  },
  {
   "cell_type": "markdown",
   "id": "d23d5fd3",
   "metadata": {},
   "source": [
    "## Frequency Distributions for Categorical Variables"
   ]
  },
  {
   "cell_type": "code",
   "execution_count": null,
   "id": "198052eb",
   "metadata": {},
   "outputs": [],
   "source": [
    "\n",
    "categorical_columns = df.select_dtypes(include=['category', 'object']).columns\n",
    "\n",
    "for col in categorical_columns:\n",
    "    plt.figure(figsize=(8, 4))\n",
    "    sns.countplot(x=df[col], edgecolor='k')\n",
    "    plt.title(f'Bar Plot of {col}')\n",
    "    plt.xlabel(col)\n",
    "    plt.ylabel('Count')\n",
    "    plt.show()\n"
   ]
  },
  {
   "cell_type": "markdown",
   "id": "98e35d7e",
   "metadata": {},
   "source": [
    "## Additional Statistical Analysis"
   ]
  },
  {
   "cell_type": "code",
   "execution_count": null,
   "id": "e3c56a45",
   "metadata": {},
   "outputs": [],
   "source": [
    "\n",
    "# Mean, median, mode, and standard deviation\n",
    "for col in numerical_columns:\n",
    "    mean = df[col].mean()\n",
    "    median = df[col].median()\n",
    "    mode = df[col].mode().iloc[0]\n",
    "    std_dev = df[col].std()\n",
    "    \n",
    "    print(f\"{col}:\")\n",
    "    print(f\"  Mean: {mean}\")\n",
    "    print(f\"  Median: {median}\")\n",
    "    print(f\"  Mode: {mode}\")\n",
    "    print(f\"  Standard Deviation: {std_dev}\\n\")\n"
   ]
  }
 ],
 "metadata": {},
 "nbformat": 4,
 "nbformat_minor": 5
}
