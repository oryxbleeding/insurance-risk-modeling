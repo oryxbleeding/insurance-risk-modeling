{
 "cells": [
  {
   "cell_type": "markdown",
   "id": "935a1048",
   "metadata": {},
   "source": [
    "## Data Loading"
   ]
  },
  {
   "cell_type": "code",
   "execution_count": 6,
   "id": "6d047356",
   "metadata": {},
   "outputs": [],
   "source": [
    "import pandas as pd\n",
    "# Load the training and test datasets\n",
    "train_df = pd.read_csv('../data/processed/train_balanced_data.csv')\n",
    "test_df = pd.read_csv('../data/processed/test_balanced_data.csv')\n",
    "\n",
    "# Separate features and target\n",
    "X_test = test_df.drop(columns='Accident')\n",
    "y_test = test_df['Accident']\n"
   ]
  },
  {
   "cell_type": "markdown",
   "id": "e5d14ca6",
   "metadata": {},
   "source": [
    "## Model Comparison"
   ]
  },
  {
   "cell_type": "code",
   "execution_count": 10,
   "id": "f6a14cd9",
   "metadata": {},
   "outputs": [
    {
     "data": {
      "text/html": [
       "<div>\n",
       "<style scoped>\n",
       "    .dataframe tbody tr th:only-of-type {\n",
       "        vertical-align: middle;\n",
       "    }\n",
       "\n",
       "    .dataframe tbody tr th {\n",
       "        vertical-align: top;\n",
       "    }\n",
       "\n",
       "    .dataframe thead th {\n",
       "        text-align: right;\n",
       "    }\n",
       "</style>\n",
       "<table border=\"1\" class=\"dataframe\">\n",
       "  <thead>\n",
       "    <tr style=\"text-align: right;\">\n",
       "      <th></th>\n",
       "      <th>Model</th>\n",
       "      <th>Accuracy</th>\n",
       "      <th>Precision</th>\n",
       "      <th>Recall</th>\n",
       "      <th>F1 Score</th>\n",
       "      <th>AUC</th>\n",
       "    </tr>\n",
       "  </thead>\n",
       "  <tbody>\n",
       "    <tr>\n",
       "      <th>0</th>\n",
       "      <td>Logistic Regression</td>\n",
       "      <td>0.556338</td>\n",
       "      <td>0.677876</td>\n",
       "      <td>0.596573</td>\n",
       "      <td>0.634631</td>\n",
       "      <td>0.566925</td>\n",
       "    </tr>\n",
       "    <tr>\n",
       "      <th>1</th>\n",
       "      <td>Random Forest</td>\n",
       "      <td>0.577465</td>\n",
       "      <td>0.651639</td>\n",
       "      <td>0.742991</td>\n",
       "      <td>0.694323</td>\n",
       "      <td>0.526265</td>\n",
       "    </tr>\n",
       "  </tbody>\n",
       "</table>\n",
       "</div>"
      ],
      "text/plain": [
       "                 Model  Accuracy  Precision    Recall  F1 Score       AUC\n",
       "0  Logistic Regression  0.556338   0.677876  0.596573  0.634631  0.566925\n",
       "1        Random Forest  0.577465   0.651639  0.742991  0.694323  0.526265"
      ]
     },
     "execution_count": 10,
     "metadata": {},
     "output_type": "execute_result"
    }
   ],
   "source": [
    "import joblib\n",
    "# Define paths to the saved models for comparison\n",
    "model_paths = {\n",
    "    'Logistic Regression': '../src/models/logistic_regression_model.joblib',\n",
    "    'Random Forest': '../src/models/random_forest_model.pkl'\n",
    "}\n",
    "\n",
    "# Initialize a dictionary to store evaluation metrics for each model\n",
    "metrics = {\n",
    "    'Model': [],\n",
    "    'Accuracy': [],\n",
    "    'Precision': [],\n",
    "    'Recall': [],\n",
    "    'F1 Score': [],\n",
    "    'AUC': []\n",
    "}\n",
    "\n",
    "# Evaluate each model\n",
    "for model_name, path in model_paths.items():\n",
    "    model = joblib.load(path)\n",
    "    \n",
    "    # Make predictions\n",
    "    y_pred = model.predict(X_test)\n",
    "    y_pred_proba = model.predict_proba(X_test)[:, 1]\n",
    "    \n",
    "    # Calculate metrics\n",
    "    metrics['Model'].append(model_name)\n",
    "    metrics['Accuracy'].append(accuracy_score(y_test, y_pred))\n",
    "    metrics['Precision'].append(precision_score(y_test, y_pred))\n",
    "    metrics['Recall'].append(recall_score(y_test, y_pred))\n",
    "    metrics['F1 Score'].append(f1_score(y_test, y_pred))\n",
    "    metrics['AUC'].append(roc_auc_score(y_test, y_pred_proba))\n",
    "\n",
    "# Convert metrics to DataFrame for easier display\n",
    "metrics_df = pd.DataFrame(metrics)\n",
    "metrics_df\n"
   ]
  },
  {
   "cell_type": "markdown",
   "id": "08126890",
   "metadata": {},
   "source": [
    "## Visualization of Model Comparison"
   ]
  },
  {
   "cell_type": "code",
   "execution_count": null,
   "id": "c3b4a879",
   "metadata": {},
   "outputs": [],
   "source": [
    "import matplotlib.pyplot as plt\n",
    "# Plot comparison of each metric\n",
    "metrics_df.set_index('Model').plot(kind='bar', figsize=(12, 8))\n",
    "plt.title('Model Comparison')\n",
    "plt.ylabel('Score')\n",
    "plt.xticks(rotation=45)\n",
    "plt.legend(loc='lower right')\n",
    "plt.show()\n"
   ]
  }
 ],
 "metadata": {
  "language_info": {
   "name": "python"
  }
 },
 "nbformat": 4,
 "nbformat_minor": 5
}
